{
 "cells": [
  {
   "cell_type": "code",
   "execution_count": 191,
   "metadata": {
    "collapsed": true
   },
   "outputs": [
    {
     "name": "stdout",
     "output_type": "stream",
     "text": [
      "Setup Complete\n"
     ]
    }
   ],
   "source": [
    "import pandas as pd\n",
    "import numpy as np\n",
    "pd.plotting.register_matplotlib_converters()\n",
    "import matplotlib.pyplot as plt\n",
    "%matplotlib inline\n",
    "import seaborn as sns\n",
    "print(\"Setup Complete\")"
   ]
  },
  {
   "cell_type": "code",
   "execution_count": 192,
   "outputs": [
    {
     "name": "stdout",
     "output_type": "stream",
     "text": [
      "{'text': 'Apple Event', 'start': 3691.253, 'duration': 3.004}\n"
     ]
    }
   ],
   "source": [
    "from youtube_transcript_api import YouTubeTranscriptApi\n",
    "\n",
    "id_video = 'CUwg_JoNHpo'\n",
    "srt = YouTubeTranscriptApi.get_transcript(id_video, languages=['en'])\n",
    "\n",
    "print(srt[-1])"
   ],
   "metadata": {
    "collapsed": false,
    "pycharm": {
     "name": "#%%\n"
    }
   }
  },
  {
   "cell_type": "code",
   "execution_count": 193,
   "outputs": [],
   "source": [
    "with open(\"subtitles.txt\", \"w\") as file:\n",
    "    for i in srt:\n",
    "        file.write(f'{i}\\n')"
   ],
   "metadata": {
    "collapsed": false,
    "pycharm": {
     "name": "#%%\n"
    }
   }
  },
  {
   "cell_type": "code",
   "execution_count": 194,
   "outputs": [
    {
     "name": "stdout",
     "output_type": "stream",
     "text": [
      "['Apple Event', 'Apple Event', 'Apple Event', 'Apple Event', 'Apple Event', 'Apple Event', 'Apple Event', 'Apple Event', 'Apple Event', 'Apple Event']\n"
     ]
    }
   ],
   "source": [
    "subtext = []\n",
    "for i in range(len(srt)):\n",
    "    subtext.append(srt[i].get('text'))\n",
    "print(subtext[:10])"
   ],
   "metadata": {
    "collapsed": false,
    "pycharm": {
     "name": "#%%\n"
    }
   }
  },
  {
   "cell_type": "code",
   "execution_count": 195,
   "outputs": [
    {
     "name": "stdout",
     "output_type": "stream",
     "text": [
      "895\n",
      "and its wide range of beautiful\n",
      "colors.\n"
     ]
    }
   ],
   "source": [
    "print(len(subtext))\n",
    "print(subtext[100])"
   ],
   "metadata": {
    "collapsed": false,
    "pycharm": {
     "name": "#%%\n"
    }
   }
  },
  {
   "cell_type": "code",
   "execution_count": 196,
   "outputs": [
    {
     "name": "stdout",
     "output_type": "stream",
     "text": [
      "['[upbeat music]', 'Tim: Good morning,\\nand welcome back to Apple Park!', 'Thank you for joining us\\nfor our first event of 2022.', 'Today we have some great\\nannouncements to share.', \"We've been working hard\\nto deliver new products and\\nservices\", 'that help you stay connected,\\nproductive, and entertained.', \"So let's start with Apple TV+.\", \"Like many of you, I've been\\nwatching a lot of shows and\\nmovies\", \"with the time\\nI've been spending at home.\", 'Along with our great original\\nseries like Ted Lasso, The\\nMorning Show,']\n"
     ]
    }
   ],
   "source": [
    " subtext[:] = (value for value in subtext if value != 'Apple Event' and value != '[♪ ♪]')\n",
    "print(subtext[:10])"
   ],
   "metadata": {
    "collapsed": false,
    "pycharm": {
     "name": "#%%\n"
    }
   }
  },
  {
   "cell_type": "code",
   "execution_count": 197,
   "outputs": [
    {
     "data": {
      "text/plain": "['[upbeat music]',\n 'Tim: Good morning,\\nand welcome back to Apple Park!',\n 'Thank you for joining us\\nfor our first event of 2022.',\n 'Today we have some great\\nannouncements to share.',\n \"We've been working hard\\nto deliver new products and\\nservices\",\n 'that help you stay connected,\\nproductive, and entertained.',\n \"So let's start with Apple TV+.\",\n \"Like many of you, I've been\\nwatching a lot of shows and\\nmovies\",\n \"with the time\\nI've been spending at home.\",\n 'Along with our great original\\nseries like Ted Lasso, The\\nMorning Show,']"
     },
     "execution_count": 197,
     "metadata": {},
     "output_type": "execute_result"
    }
   ],
   "source": [
    "for i in range(len(subtext)):\n",
    "        subtext[i] = subtext[i].rstrip('\\n')\n",
    "subtext[:10]"
   ],
   "metadata": {
    "collapsed": false,
    "pycharm": {
     "name": "#%%\n"
    }
   }
  },
  {
   "cell_type": "code",
   "execution_count": 198,
   "outputs": [
    {
     "name": "stdout",
     "output_type": "stream",
     "text": [
      "after cleaning apple event and music subtitles, the len of the subtext is:850\n"
     ]
    }
   ],
   "source": [
    "print(f'after cleaning apple event and music subtitles, the len of the subtext is:{len(subtext)}')"
   ],
   "metadata": {
    "collapsed": false,
    "pycharm": {
     "name": "#%%\n"
    }
   }
  },
  {
   "cell_type": "code",
   "execution_count": 199,
   "outputs": [
    {
     "name": "stderr",
     "output_type": "stream",
     "text": [
      "[nltk_data] Downloading package stopwords to\n",
      "[nltk_data]     /Users/andycheung/nltk_data...\n",
      "[nltk_data]   Package stopwords is already up-to-date!\n"
     ]
    },
    {
     "data": {
      "text/plain": "True"
     },
     "execution_count": 199,
     "metadata": {},
     "output_type": "execute_result"
    }
   ],
   "source": [
    "import nltk\n",
    "from nltk import word_tokenize\n",
    "nltk.download('stopwords')"
   ],
   "metadata": {
    "collapsed": false,
    "pycharm": {
     "name": "#%%\n"
    }
   }
  },
  {
   "cell_type": "code",
   "execution_count": 200,
   "outputs": [],
   "source": [
    "from wordcloud import WordCloud, STOPWORDS,ImageColorGenerator\n",
    "from nltk.corpus import stopwords\n",
    "import string\n",
    "stopwords = set(stopwords.words('english') + list(string.punctuation))"
   ],
   "metadata": {
    "collapsed": false,
    "pycharm": {
     "name": "#%%\n"
    }
   }
  },
  {
   "cell_type": "code",
   "execution_count": null,
   "outputs": [],
   "source": [
    "from textblob import TextBlob\n",
    "\n",
    "def removeStopwords( texto):\n",
    "    blob = TextBlob(texto).words\n",
    "    outputlist = [word for word in blob if word not in stopwords.words('english')]\n",
    "    return ' '.join(word for word in outputlist)"
   ],
   "metadata": {
    "collapsed": false,
    "pycharm": {
     "name": "#%%\n",
     "is_executing": true
    }
   }
  },
  {
   "cell_type": "code",
   "execution_count": null,
   "outputs": [],
   "source": [
    "stopped = removeStopwords(subtext)"
   ],
   "metadata": {
    "collapsed": false,
    "pycharm": {
     "name": "#%%\n"
    }
   }
  },
  {
   "cell_type": "markdown",
   "source": [],
   "metadata": {
    "collapsed": false
   }
  },
  {
   "cell_type": "code",
   "execution_count": null,
   "outputs": [],
   "source": [
    "subtext_str = ' '.join(subtext)\n",
    "subtext_str"
   ],
   "metadata": {
    "collapsed": false,
    "pycharm": {
     "name": "#%%\n"
    }
   }
  },
  {
   "cell_type": "code",
   "execution_count": null,
   "outputs": [],
   "source": [
    "subtext_list = []\n",
    "for i in subtext:\n",
    "    temp = ''\n",
    "    for j in i:\n",
    "        if j != ' ':\n",
    "            temp +=j\n",
    "        elif j == ' ':\n",
    "            subtext_list.append(temp)\n",
    "            temp = ''\n",
    "stopwords.add('And')\n",
    "subtext_stopped = [i for i in word_tokenize(subtext_str.lower()) if i not in stopwords]\n",
    "\n",
    "subtext_stopped"
   ],
   "metadata": {
    "collapsed": false,
    "pycharm": {
     "name": "#%%\n"
    }
   }
  },
  {
   "cell_type": "code",
   "execution_count": null,
   "outputs": [],
   "source": [
    "from os import path\n",
    "from PIL import Image\n",
    "import numpy as np\n",
    "import matplotlib.pyplot as plt\n",
    "import os"
   ],
   "metadata": {
    "collapsed": false,
    "pycharm": {
     "name": "#%%\n"
    }
   }
  },
  {
   "cell_type": "code",
   "execution_count": null,
   "outputs": [],
   "source": [
    "wordcloud = WordCloud(max_font_size=50, max_words=90, background_color=\"white\").generate(subtext_str)\n",
    "plt.figure(figsize=(14,10))\n",
    "plt.imshow(wordcloud, interpolation=\"bilinear\")\n",
    "plt.axis(\"off\")\n",
    "plt.show()"
   ],
   "metadata": {
    "collapsed": false,
    "pycharm": {
     "name": "#%%\n"
    }
   }
  },
  {
   "cell_type": "code",
   "execution_count": null,
   "outputs": [],
   "source": [
    "mask = np.array(Image.open(\"./png-apple-logo-9711.png\"))\n",
    "wordcloud = WordCloud(max_words=500,\n",
    "                      max_font_size=100,\n",
    "                      relative_scaling=0.5,\n",
    "                      colormap='PuRd',\n",
    "                      normalize_plurals=True,\n",
    "                      mask=mask,\n",
    "                      contour_width=3,\n",
    "                      contour_color='steelblue',\n",
    "                      background_color='white',\n",
    "                      stopwords = STOPWORDS).generate(subtext_str)\n",
    "# create coloring from image\n",
    "#image_colors = ImageColorGenerator(mask)\n",
    "#wordcloud.to_file('output1.png')\n",
    "plt.figure(figsize=[20,20])\n",
    "plt.imshow(wordcloud, interpolation=\"bilinear\")\n",
    "plt.axis(\"off\")\n",
    "# store to file\n",
    "#\n",
    "plt.show()"
   ],
   "metadata": {
    "collapsed": false,
    "pycharm": {
     "name": "#%%\n"
    }
   }
  },
  {
   "cell_type": "code",
   "execution_count": null,
   "outputs": [],
   "source": [
    "mask = np.array(Image.open(\"./png-apple-logo-9711.png\"))"
   ],
   "metadata": {
    "collapsed": false,
    "pycharm": {
     "name": "#%%\n"
    }
   }
  },
  {
   "cell_type": "code",
   "execution_count": null,
   "outputs": [],
   "source": [
    "print(np.shape(mask))\n",
    "print(type(mask[1,2,1]))"
   ],
   "metadata": {
    "collapsed": false,
    "pycharm": {
     "name": "#%%\n"
    }
   }
  },
  {
   "cell_type": "code",
   "execution_count": null,
   "outputs": [],
   "source": [
    "mask2 = np.array(Image.open(\"./png-apple-logo-9708.png\"))\n",
    "print(np.shape(mask2))\n",
    "#print(type(mask[1,2,1]))"
   ],
   "metadata": {
    "collapsed": false,
    "pycharm": {
     "name": "#%%\n"
    }
   }
  },
  {
   "cell_type": "code",
   "execution_count": null,
   "outputs": [],
   "source": [
    "x=mask2.shape[0]\n",
    "y=mask2.shape[1]*mask2.shape[2]\n",
    "\n",
    "mask2.resize((x,y)) # a 2D array\n",
    "print(mask2)"
   ],
   "metadata": {
    "collapsed": false,
    "pycharm": {
     "name": "#%%\n"
    }
   }
  },
  {
   "cell_type": "code",
   "execution_count": null,
   "outputs": [],
   "source": [
    "def transform_zeros(val):\n",
    "    if val == 0:\n",
    "        return 255\n",
    "    elif val == 255:\n",
    "        return 0\n",
    "    else:\n",
    "        return val"
   ],
   "metadata": {
    "collapsed": false,
    "pycharm": {
     "name": "#%%\n"
    }
   }
  },
  {
   "cell_type": "code",
   "execution_count": null,
   "outputs": [],
   "source": [
    "maskable_image = np.ndarray((mask2.shape[0],mask2.shape[1]), np.int32)"
   ],
   "metadata": {
    "collapsed": false,
    "pycharm": {
     "name": "#%%\n"
    }
   }
  },
  {
   "cell_type": "code",
   "execution_count": null,
   "outputs": [],
   "source": [
    "for i in range(len(mask2)):\n",
    "    maskable_image[i] = list(map(transform_zeros, mask2[i]))"
   ],
   "metadata": {
    "collapsed": false,
    "pycharm": {
     "name": "#%%\n"
    }
   }
  },
  {
   "cell_type": "code",
   "execution_count": null,
   "outputs": [],
   "source": [
    "maskable_image"
   ],
   "metadata": {
    "collapsed": false,
    "pycharm": {
     "name": "#%%\n"
    }
   }
  },
  {
   "cell_type": "code",
   "execution_count": null,
   "outputs": [],
   "source": [
    "mask = np.array(Image.open(\"./png-apple-logo-9708.png\"))\n",
    "wordcloud = WordCloud(max_words=500,\n",
    "                      max_font_size=100,\n",
    "                      relative_scaling=0.5,\n",
    "                      colormap='PuRd',\n",
    "                      normalize_plurals=True,\n",
    "                      mask=maskable_image,\n",
    "                      contour_width=3,\n",
    "                      contour_color='steelblue',\n",
    "                      background_color='white',\n",
    "                      stopwords = STOPWORDS).generate(subtext_str)\n",
    "# create coloring from image\n",
    "#image_colors = ImageColorGenerator(mask)\n",
    "#wordcloud.to_file('output1.png')\n",
    "#plt.figure(figsize=[20,20])\n",
    "plt.imshow(wordcloud)\n",
    "plt.axis(\"off\")\n",
    "# store to file\n",
    "#\n",
    "plt.show()"
   ],
   "metadata": {
    "collapsed": false,
    "pycharm": {
     "name": "#%%\n"
    }
   }
  },
  {
   "cell_type": "code",
   "execution_count": null,
   "outputs": [],
   "source": [
    "wordcloud = WordCloud(max_words=500,\n",
    "                      height=2000,\n",
    "                      width=2000,\n",
    "                     max_font_size=100,\n",
    "                     relative_scaling=0.5,\n",
    "                     colormap='tab20b',\n",
    "                     normalize_plurals=True,\n",
    "                     mask=mask,\n",
    "                     background_color='white',\n",
    "                    collocations=False,\n",
    "                     stopwords = stopwords).generate(subtext_str)\n",
    "\n",
    "\n",
    "def plot_cloud(wordcloud):\n",
    "    # Set figure size\n",
    "    plt.figure(figsize=(40, 30))\n",
    "    # Display image\n",
    "    plt.imshow(wordcloud)\n",
    "    # No axis details\n",
    "    plt.axis(\"off\");\n",
    "plot_cloud(wordcloud)"
   ],
   "metadata": {
    "collapsed": false,
    "pycharm": {
     "name": "#%%\n"
    }
   }
  },
  {
   "cell_type": "code",
   "execution_count": null,
   "outputs": [],
   "source": [
    "mask = np.array(Image.open(\"./png-apple-logo-9711.png\"))"
   ],
   "metadata": {
    "collapsed": false,
    "pycharm": {
     "name": "#%%\n"
    }
   }
  },
  {
   "cell_type": "code",
   "execution_count": null,
   "outputs": [],
   "source": [
    "x=mask.shape[0]\n",
    "y=mask.shape[1]*mask.shape[2]\n",
    "\n",
    "mask.resize((x,y)) # a 2D array"
   ],
   "metadata": {
    "collapsed": false,
    "pycharm": {
     "name": "#%%\n"
    }
   }
  },
  {
   "cell_type": "code",
   "execution_count": null,
   "outputs": [],
   "source": [
    "maskable_image1 = np.ndarray((mask.shape[0], mask.shape[1]), np.int32)\n",
    "for i in range(len(mask)):\n",
    "    maskable_image1[i] = list(map(transform_zeros, mask[i]))"
   ],
   "metadata": {
    "collapsed": false,
    "pycharm": {
     "name": "#%%\n"
    }
   }
  },
  {
   "cell_type": "code",
   "execution_count": null,
   "outputs": [],
   "source": [
    "print( 0 in maskable_image1)"
   ],
   "metadata": {
    "collapsed": false,
    "pycharm": {
     "name": "#%%\n"
    }
   }
  },
  {
   "cell_type": "code",
   "execution_count": null,
   "outputs": [],
   "source": [
    "print(mask)"
   ],
   "metadata": {
    "collapsed": false,
    "pycharm": {
     "name": "#%%\n"
    }
   }
  },
  {
   "cell_type": "code",
   "execution_count": null,
   "outputs": [],
   "source": [
    "print(maskable_image1)"
   ],
   "metadata": {
    "collapsed": false,
    "pycharm": {
     "name": "#%%\n"
    }
   }
  },
  {
   "cell_type": "code",
   "execution_count": null,
   "outputs": [],
   "source": [
    "grey_mask = np.array(Image.open(\"./png-apple-logo-9741.png\"))\n",
    "wordcloud = WordCloud(\n",
    "                      mask=grey_mask,\n",
    "                        background_color='white',\n",
    "                      stopwords = stopwords).generate(subtext_str)\n",
    "\n",
    "\n",
    "def plot_cloud(wordcloud):\n",
    "    # Set figure size\n",
    "    plt.figure(figsize=(40, 30))\n",
    "    # Display image\n",
    "    plt.imshow(wordcloud)\n",
    "    # No axis details\n",
    "    plt.axis(\"off\");\n",
    "plot_cloud(wordcloud)"
   ],
   "metadata": {
    "collapsed": false,
    "pycharm": {
     "name": "#%%\n"
    }
   }
  },
  {
   "cell_type": "code",
   "execution_count": null,
   "outputs": [],
   "source": [
    "mask = np.array(Image.open(\"./png-apple-logo-9711.png\"))\n",
    "wordcloud = WordCloud(max_words=500,\n",
    "                      height=2000,\n",
    "                      width=2000,\n",
    "                      max_font_size=100,\n",
    "                      contour_width=3,\n",
    "                      contour_color='firebrick',\n",
    "                      background_color='white',\n",
    "                      mask=maskable_image1,\n",
    "                    stopwords = stopwords).generate(subtext_str)\n",
    "\n",
    "\n",
    "def plot_cloud(wordcloud):\n",
    "    # Set figure size\n",
    "    plt.figure(figsize=(40, 30))\n",
    "    # Display image\n",
    "    plt.imshow(wordcloud, interpolation='bilinear')\n",
    "    # No axis details\n",
    "    plt.axis(\"off\");\n",
    "plot_cloud(wordcloud)"
   ],
   "metadata": {
    "collapsed": false,
    "pycharm": {
     "name": "#%%\n"
    }
   }
  },
  {
   "cell_type": "code",
   "execution_count": null,
   "outputs": [],
   "source": [
    "print(grey_mask)\n",
    "print(grey_mask.shape)"
   ],
   "metadata": {
    "collapsed": false,
    "pycharm": {
     "name": "#%%\n"
    }
   }
  },
  {
   "cell_type": "code",
   "execution_count": null,
   "outputs": [],
   "source": [
    "import nltk\n",
    "%matplotlib inline\n",
    "sns.set(rc={'figure.figsize':(12,10)})\n",
    "sns.set_style( 'darkgrid')\n",
    "# Create freq dist and plot\n",
    "nlp_words = nltk.FreqDist(subtext_stopped)\n",
    "nlp_words.plot(10)"
   ],
   "metadata": {
    "collapsed": false,
    "pycharm": {
     "name": "#%%\n"
    }
   }
  },
  {
   "cell_type": "code",
   "execution_count": null,
   "outputs": [],
   "source": [
    "from nltk.tokenize import sent_tokenize, word_tokenize\n",
    "nltk.download('punkt')\n",
    "tokens = [word_tokenize(t) for t in sent_tokenize(subtext_str)]\n",
    "bigrams = nltk.bigrams(tokens)\n",
    "#frequence = nltk.FreqDist(bigrams)\n",
    "#for key, value in frequence.items():\n",
    "    #print(key,value)\n",
    "print(tokens)"
   ],
   "metadata": {
    "collapsed": false,
    "pycharm": {
     "name": "#%%\n"
    }
   }
  },
  {
   "cell_type": "code",
   "execution_count": null,
   "outputs": [],
   "source": [
    "frequence.plot(20)"
   ],
   "metadata": {
    "collapsed": false,
    "pycharm": {
     "name": "#%%\n"
    }
   }
  },
  {
   "cell_type": "code",
   "execution_count": null,
   "outputs": [],
   "source": [],
   "metadata": {
    "collapsed": false,
    "pycharm": {
     "name": "#%%\n"
    }
   }
  }
 ],
 "metadata": {
  "kernelspec": {
   "display_name": "Python 3",
   "language": "python",
   "name": "python3"
  },
  "language_info": {
   "codemirror_mode": {
    "name": "ipython",
    "version": 2
   },
   "file_extension": ".py",
   "mimetype": "text/x-python",
   "name": "python",
   "nbconvert_exporter": "python",
   "pygments_lexer": "ipython2",
   "version": "2.7.6"
  }
 },
 "nbformat": 4,
 "nbformat_minor": 0
}